{
 "cells": [
  {
   "cell_type": "markdown",
   "metadata": {},
   "source": [
    "# Predicting House Prices - Ames DataSet (Kaggle Competition)\n",
    "\n",
    "This project will use the Ames dataset to train various models with the intention of arriving at the lowest possible value for the error metric chosen by Kaggle for this competition: the mean squared logarithmic error.\n",
    "\n",
    "First, the data will be cleaned and features that are not useful will be removed. For the beginning, thse features will be chosen intuitively. Features that seemingly run the risk of high collinearity will also be removede at the offset. Once it is established that there is room for imrpovemenmt, more technical approaches will be taken in choosing features in order to optimize the model.\n",
    "\n",
    "In the same sweeping move, features to be included in training will be respectively engineered to garner useful predicitve outputs. This will involve creating dummies for all categorical columns. Again, this is essentially a pre-process to test the water so to speak. Further feature engineering will be done once a baseline of accuracy has been established and can be used as a benchmark for further improvement."
   ]
  },
  {
   "cell_type": "code",
   "execution_count": 1,
   "metadata": {},
   "outputs": [],
   "source": [
    "import pandas as pd\n",
    "import numpy as np\n",
    "\n",
    "train = pd.read_csv('train.csv')\n",
    "holdout = pd.read_csv('test.csv')\n",
    "\n",
    "\n",
    "cols_to_drop = ['LotFrontage', 'Street', 'Alley', 'LandContour',\n",
    "               'YearRemodAdd', 'YearBuilt', 'RoofStyle', 'MasVnrArea',\n",
    "               'Foundation', 'BsmtQual', 'BsmtExposure', 'BsmtFinSF1', 'BsmtFinType2', 'BsmtFinSF2',\n",
    "               'BsmtUnfSF', '1stFlrSF', '2ndFlrSF', 'LowQualFinSF', 'BsmtFullBath', 'FullBath',\n",
    "               'BsmtHalfBath', 'HalfBath', 'FireplaceQu', 'GarageYrBlt', 'GarageFinish', 'GarageType',\n",
    "               'GarageCars', 'GarageQual', 'EnclosedPorch', 'OpenPorchSF', 'ScreenPorch', 'PoolArea',\n",
    "               'MiscVal', 'MoSold', 'YrSold', 'SaleType', 'SaleCondition', '3SsnPorch']\n",
    "\n",
    "cols_for_dummies = ['MSSubClass', 'MSZoning', 'LotShape', 'LotConfig', 'OverallQual', 'OverallCond', 'Utilities',\n",
    "                    'LandSlope', 'Neighborhood', 'Condition1', 'Condition2',\n",
    "                    'BldgType', 'HouseStyle', 'RoofMatl', 'Exterior1st', 'Exterior2nd',\n",
    "                    'MasVnrType', 'ExterQual', 'ExterCond', 'BsmtCond', 'BsmtFinType1', 'Heating', \n",
    "                    'HeatingQC', 'CentralAir', 'Electrical', 'KitchenQual', 'Functional',\n",
    "                    'GarageCond', 'PavedDrive', 'PoolQC', 'Fence', 'MiscFeature', 'house_age']\n"
   ]
  },
  {
   "cell_type": "markdown",
   "metadata": {},
   "source": [
    "## Exploring the data and the distribution of values\n",
    "\n",
    "We will now make an attempt to explore the layout of the data. We will do this to determine if there is a linear relationship between the 'features' and the target variable. If there is we know that linear regression is, tentatively, a good model to begin with. At the same time we will have to determine if the errors follow a normal distribution - another prerequisite for successfull linear regression. We also take a look at the correlation between some columns and the target column: 'SalePrice'. Using this we could exclude some columns that won't be useful for our model.\n",
    "\n",
    "We will also look at factors that intuitively would be highly relevant to the SalePrice, and in doing so identify outliers that we can remove from the data in order to achieve more accuracte predictions."
   ]
  },
  {
   "cell_type": "code",
   "execution_count": 2,
   "metadata": {
    "scrolled": true
   },
   "outputs": [
    {
     "data": {
      "text/plain": [
       "<matplotlib.axes._subplots.AxesSubplot at 0x115f82a20>"
      ]
     },
     "execution_count": 2,
     "metadata": {},
     "output_type": "execute_result"
    },
    {
     "data": {
      "image/png": "[encoded data removed]",
      "text/plain": [
       "<Figure size 432x288 with 1 Axes>"
      ]
     },
     "metadata": {
      "needs_background": "light"
     },
     "output_type": "display_data"
    }
   ],
   "source": [
    "%matplotlib inline\n",
    "\n",
    "## Looking for Outliers\n",
    "\n",
    "train.plot.scatter('SalePrice', 'GrLivArea')"
   ]
  },
  {
   "cell_type": "code",
   "execution_count": 3,
   "metadata": {},
   "outputs": [
    {
     "data": {
      "text/html": [
       "<div>\n",
       "<style scoped>\n",
       "    .dataframe tbody tr th:only-of-type {\n",
       "        vertical-align: middle;\n",
       "    }\n",
       "\n",
       "    .dataframe tbody tr th {\n",
       "        vertical-align: top;\n",
       "    }\n",
       "\n",
       "    .dataframe thead th {\n",
       "        text-align: right;\n",
       "    }\n",
       "</style>\n",
       "<table border=\"1\" class=\"dataframe\">\n",
       "  <thead>\n",
       "    <tr style=\"text-align: right;\">\n",
       "      <th></th>\n",
       "      <th>Id</th>\n",
       "      <th>MSSubClass</th>\n",
       "      <th>MSZoning</th>\n",
       "      <th>LotFrontage</th>\n",
       "      <th>LotArea</th>\n",
       "      <th>Street</th>\n",
       "      <th>Alley</th>\n",
       "      <th>LotShape</th>\n",
       "      <th>LandContour</th>\n",
       "      <th>Utilities</th>\n",
       "      <th>...</th>\n",
       "      <th>PoolArea</th>\n",
       "      <th>PoolQC</th>\n",
       "      <th>Fence</th>\n",
       "      <th>MiscFeature</th>\n",
       "      <th>MiscVal</th>\n",
       "      <th>MoSold</th>\n",
       "      <th>YrSold</th>\n",
       "      <th>SaleType</th>\n",
       "      <th>SaleCondition</th>\n",
       "      <th>SalePrice</th>\n",
       "    </tr>\n",
       "  </thead>\n",
       "  <tbody>\n",
       "    <tr>\n",
       "      <th>523</th>\n",
       "      <td>524</td>\n",
       "      <td>60</td>\n",
       "      <td>RL</td>\n",
       "      <td>130.0</td>\n",
       "      <td>40094</td>\n",
       "      <td>Pave</td>\n",
       "      <td>NaN</td>\n",
       "      <td>IR1</td>\n",
       "      <td>Bnk</td>\n",
       "      <td>AllPub</td>\n",
       "      <td>...</td>\n",
       "      <td>0</td>\n",
       "      <td>NaN</td>\n",
       "      <td>NaN</td>\n",
       "      <td>NaN</td>\n",
       "      <td>0</td>\n",
       "      <td>10</td>\n",
       "      <td>2007</td>\n",
       "      <td>New</td>\n",
       "      <td>Partial</td>\n",
       "      <td>184750</td>\n",
       "    </tr>\n",
       "    <tr>\n",
       "      <th>1298</th>\n",
       "      <td>1299</td>\n",
       "      <td>60</td>\n",
       "      <td>RL</td>\n",
       "      <td>313.0</td>\n",
       "      <td>63887</td>\n",
       "      <td>Pave</td>\n",
       "      <td>NaN</td>\n",
       "      <td>IR3</td>\n",
       "      <td>Bnk</td>\n",
       "      <td>AllPub</td>\n",
       "      <td>...</td>\n",
       "      <td>480</td>\n",
       "      <td>Gd</td>\n",
       "      <td>NaN</td>\n",
       "      <td>NaN</td>\n",
       "      <td>0</td>\n",
       "      <td>1</td>\n",
       "      <td>2008</td>\n",
       "      <td>New</td>\n",
       "      <td>Partial</td>\n",
       "      <td>160000</td>\n",
       "    </tr>\n",
       "  </tbody>\n",
       "</table>\n",
       "<p>2 rows × 81 columns</p>\n",
       "</div>"
      ],
      "text/plain": [
       "        Id  MSSubClass MSZoning  LotFrontage  LotArea Street Alley LotShape  \\\n",
       "523    524          60       RL        130.0    40094   Pave   NaN      IR1   \n",
       "1298  1299          60       RL        313.0    63887   Pave   NaN      IR3   \n",
       "\n",
       "     LandContour Utilities  ... PoolArea PoolQC Fence MiscFeature MiscVal  \\\n",
       "523          Bnk    AllPub  ...        0    NaN   NaN         NaN       0   \n",
       "1298         Bnk    AllPub  ...      480     Gd   NaN         NaN       0   \n",
       "\n",
       "     MoSold YrSold  SaleType  SaleCondition  SalePrice  \n",
       "523      10   2007       New        Partial     184750  \n",
       "1298      1   2008       New        Partial     160000  \n",
       "\n",
       "[2 rows x 81 columns]"
      ]
     },
     "execution_count": 3,
     "metadata": {},
     "output_type": "execute_result"
    }
   ],
   "source": [
    "outliers = train[train['GrLivArea'] > 4500]\n",
    "\n",
    "outliers\n",
    "\n"
   ]
  },
  {
   "cell_type": "code",
   "execution_count": 4,
   "metadata": {},
   "outputs": [],
   "source": [
    "train = train.drop([523,1298])"
   ]
  },
  {
   "cell_type": "code",
   "execution_count": 5,
   "metadata": {
    "scrolled": true
   },
   "outputs": [
    {
     "data": {
      "text/plain": [
       "<matplotlib.axes._subplots.AxesSubplot at 0x116396358>"
      ]
     },
     "execution_count": 5,
     "metadata": {},
     "output_type": "execute_result"
    },
    {
     "data": {
      "image/png": "[encoded data removed]",
      "text/plain": [
       "<Figure size 432x288 with 1 Axes>"
      ]
     },
     "metadata": {
      "needs_background": "light"
     },
     "output_type": "display_data"
    }
   ],
   "source": [
    "## Demonstrating that outliers have been dealt with\n",
    "\n",
    "train.plot.scatter('SalePrice', 'GrLivArea')"
   ]
  },
  {
   "cell_type": "code",
   "execution_count": 6,
   "metadata": {},
   "outputs": [
    {
     "data": {
      "text/plain": [
       "SalePrice        1.000000\n",
       "OverallQual      0.795774\n",
       "GrLivArea        0.734968\n",
       "TotalBsmtSF      0.651153\n",
       "GarageCars       0.641047\n",
       "1stFlrSF         0.631530\n",
       "GarageArea       0.629217\n",
       "FullBath         0.562165\n",
       "TotRmsAbvGrd     0.537769\n",
       "YearBuilt        0.523608\n",
       "YearRemodAdd     0.507717\n",
       "GarageYrBlt      0.487156\n",
       "MasVnrArea       0.482719\n",
       "Fireplaces       0.469862\n",
       "BsmtFinSF1       0.409384\n",
       "LotFrontage      0.370584\n",
       "WoodDeckSF       0.324758\n",
       "OpenPorchSF      0.321142\n",
       "2ndFlrSF         0.320532\n",
       "HalfBath         0.284590\n",
       "LotArea          0.268179\n",
       "BsmtFullBath     0.228459\n",
       "BsmtUnfSF        0.214460\n",
       "BedroomAbvGr     0.168245\n",
       "KitchenAbvGr     0.135946\n",
       "EnclosedPorch    0.128646\n",
       "ScreenPorch      0.111415\n",
       "PoolArea         0.099490\n",
       "MSSubClass       0.084276\n",
       "OverallCond      0.077948\n",
       "MoSold           0.046124\n",
       "3SsnPorch        0.044568\n",
       "YrSold           0.028882\n",
       "LowQualFinSF     0.025625\n",
       "Id               0.021673\n",
       "MiscVal          0.021203\n",
       "BsmtHalfBath     0.016881\n",
       "BsmtFinSF2       0.011422\n",
       "Name: SalePrice, dtype: float64"
      ]
     },
     "execution_count": 6,
     "metadata": {},
     "output_type": "execute_result"
    }
   ],
   "source": [
    "correlations = train.corr().abs()\n",
    "\n",
    "correlations['SalePrice'].sort_values(ascending = False).head(50)"
   ]
  },
  {
   "cell_type": "markdown",
   "metadata": {},
   "source": [
    "## Looking for more outliers\n",
    "\n",
    "By looking at the correlation of each column to the 'SalePrice' we are able to indetify the most \"meaningful\" features relative to their potential predictive power. We will now look at the features with over 0.5 as a correlation value. The features within this category that are numeric and continuous will be looked at to find and remoe further outliers. "
   ]
  },
  {
   "cell_type": "code",
   "execution_count": 7,
   "metadata": {
    "scrolled": true
   },
   "outputs": [
    {
     "data": {
      "text/plain": [
       "<matplotlib.axes._subplots.AxesSubplot at 0x114232710>"
      ]
     },
     "execution_count": 7,
     "metadata": {},
     "output_type": "execute_result"
    },
    {
     "data": {
      "image/png": "[encoded data removed]",
      "text/plain": [
       "<Figure size 432x288 with 1 Axes>"
      ]
     },
     "metadata": {
      "needs_background": "light"
     },
     "output_type": "display_data"
    }
   ],
   "source": [
    "train.plot.scatter('SalePrice', 'TotalBsmtSF')\n",
    "\n"
   ]
  },
  {
   "cell_type": "code",
   "execution_count": 8,
   "metadata": {
    "scrolled": true
   },
   "outputs": [
    {
     "data": {
      "text/html": [
       "<div>\n",
       "<style scoped>\n",
       "    .dataframe tbody tr th:only-of-type {\n",
       "        vertical-align: middle;\n",
       "    }\n",
       "\n",
       "    .dataframe tbody tr th {\n",
       "        vertical-align: top;\n",
       "    }\n",
       "\n",
       "    .dataframe thead th {\n",
       "        text-align: right;\n",
       "    }\n",
       "</style>\n",
       "<table border=\"1\" class=\"dataframe\">\n",
       "  <thead>\n",
       "    <tr style=\"text-align: right;\">\n",
       "      <th></th>\n",
       "      <th>Id</th>\n",
       "      <th>MSSubClass</th>\n",
       "      <th>MSZoning</th>\n",
       "      <th>LotFrontage</th>\n",
       "      <th>LotArea</th>\n",
       "      <th>Street</th>\n",
       "      <th>Alley</th>\n",
       "      <th>LotShape</th>\n",
       "      <th>LandContour</th>\n",
       "      <th>Utilities</th>\n",
       "      <th>...</th>\n",
       "      <th>PoolArea</th>\n",
       "      <th>PoolQC</th>\n",
       "      <th>Fence</th>\n",
       "      <th>MiscFeature</th>\n",
       "      <th>MiscVal</th>\n",
       "      <th>MoSold</th>\n",
       "      <th>YrSold</th>\n",
       "      <th>SaleType</th>\n",
       "      <th>SaleCondition</th>\n",
       "      <th>SalePrice</th>\n",
       "    </tr>\n",
       "  </thead>\n",
       "  <tbody>\n",
       "    <tr>\n",
       "      <th>332</th>\n",
       "      <td>333</td>\n",
       "      <td>20</td>\n",
       "      <td>RL</td>\n",
       "      <td>85.0</td>\n",
       "      <td>10655</td>\n",
       "      <td>Pave</td>\n",
       "      <td>NaN</td>\n",
       "      <td>IR1</td>\n",
       "      <td>Lvl</td>\n",
       "      <td>AllPub</td>\n",
       "      <td>...</td>\n",
       "      <td>0</td>\n",
       "      <td>NaN</td>\n",
       "      <td>NaN</td>\n",
       "      <td>NaN</td>\n",
       "      <td>0</td>\n",
       "      <td>10</td>\n",
       "      <td>2009</td>\n",
       "      <td>WD</td>\n",
       "      <td>Normal</td>\n",
       "      <td>284000</td>\n",
       "    </tr>\n",
       "    <tr>\n",
       "      <th>496</th>\n",
       "      <td>497</td>\n",
       "      <td>20</td>\n",
       "      <td>RL</td>\n",
       "      <td>NaN</td>\n",
       "      <td>12692</td>\n",
       "      <td>Pave</td>\n",
       "      <td>NaN</td>\n",
       "      <td>IR1</td>\n",
       "      <td>Lvl</td>\n",
       "      <td>AllPub</td>\n",
       "      <td>...</td>\n",
       "      <td>0</td>\n",
       "      <td>NaN</td>\n",
       "      <td>NaN</td>\n",
       "      <td>NaN</td>\n",
       "      <td>0</td>\n",
       "      <td>5</td>\n",
       "      <td>2007</td>\n",
       "      <td>WD</td>\n",
       "      <td>Normal</td>\n",
       "      <td>430000</td>\n",
       "    </tr>\n",
       "  </tbody>\n",
       "</table>\n",
       "<p>2 rows × 81 columns</p>\n",
       "</div>"
      ],
      "text/plain": [
       "      Id  MSSubClass MSZoning  LotFrontage  LotArea Street Alley LotShape  \\\n",
       "332  333          20       RL         85.0    10655   Pave   NaN      IR1   \n",
       "496  497          20       RL          NaN    12692   Pave   NaN      IR1   \n",
       "\n",
       "    LandContour Utilities  ... PoolArea PoolQC Fence MiscFeature MiscVal  \\\n",
       "332         Lvl    AllPub  ...        0    NaN   NaN         NaN       0   \n",
       "496         Lvl    AllPub  ...        0    NaN   NaN         NaN       0   \n",
       "\n",
       "    MoSold YrSold  SaleType  SaleCondition  SalePrice  \n",
       "332     10   2009        WD         Normal     284000  \n",
       "496      5   2007        WD         Normal     430000  \n",
       "\n",
       "[2 rows x 81 columns]"
      ]
     },
     "execution_count": 8,
     "metadata": {},
     "output_type": "execute_result"
    }
   ],
   "source": [
    "## the top two points (above 3000 SF and below 500 000 price) look to lie outside the distribution \n",
    "## We will remove these two outliers\n",
    "\n",
    "outliers_2 = train[(train['TotalBsmtSF'] > 3000) & (train['SalePrice'] < 500000)]\n",
    "\n",
    "outliers_2"
   ]
  },
  {
   "cell_type": "code",
   "execution_count": 9,
   "metadata": {},
   "outputs": [],
   "source": [
    "train = train.drop([332,496])"
   ]
  },
  {
   "cell_type": "code",
   "execution_count": 10,
   "metadata": {
    "scrolled": true
   },
   "outputs": [
    {
     "data": {
      "image/png": "[encoded data removed]",
      "text/plain": [
       "<Figure size 432x288 with 1 Axes>"
      ]
     },
     "metadata": {
      "needs_background": "light"
     },
     "output_type": "display_data"
    }
   ],
   "source": [
    "## Demonstrating that outliers have been removed\n",
    "\n",
    "train.plot.scatter('SalePrice', 'TotalBsmtSF')\n",
    "\n",
    "## Creating a new binary column for whether a house has a basement (0 = no bsmt, 1 = bsmt)\n",
    "\n",
    "def has_it_or_not(value):\n",
    "    if value > 0:\n",
    "        value = 1\n",
    "    else:\n",
    "        value = 0\n",
    "    return value\n",
    "\n",
    "train['has_bsmt'] = train['TotalBsmtSF'].apply(has_it_or_not)\n",
    "holdout['has_bsmt'] = holdout['TotalBsmtSF'].apply(has_it_or_not)"
   ]
  },
  {
   "cell_type": "code",
   "execution_count": 11,
   "metadata": {
    "scrolled": true
   },
   "outputs": [
    {
     "data": {
      "text/plain": [
       "<matplotlib.axes._subplots.AxesSubplot at 0x1166bb588>"
      ]
     },
     "execution_count": 11,
     "metadata": {},
     "output_type": "execute_result"
    },
    {
     "data": {
      "image/png": "[encoded data removed]",
      "text/plain": [
       "<Figure size 432x288 with 1 Axes>"
      ]
     },
     "metadata": {
      "needs_background": "light"
     },
     "output_type": "display_data"
    }
   ],
   "source": [
    "train.plot.scatter('SalePrice', 'GarageArea')"
   ]
  },
  {
   "cell_type": "code",
   "execution_count": 12,
   "metadata": {
    "scrolled": true
   },
   "outputs": [
    {
     "data": {
      "text/html": [
       "<div>\n",
       "<style scoped>\n",
       "    .dataframe tbody tr th:only-of-type {\n",
       "        vertical-align: middle;\n",
       "    }\n",
       "\n",
       "    .dataframe tbody tr th {\n",
       "        vertical-align: top;\n",
       "    }\n",
       "\n",
       "    .dataframe thead th {\n",
       "        text-align: right;\n",
       "    }\n",
       "</style>\n",
       "<table border=\"1\" class=\"dataframe\">\n",
       "  <thead>\n",
       "    <tr style=\"text-align: right;\">\n",
       "      <th></th>\n",
       "      <th>Id</th>\n",
       "      <th>MSSubClass</th>\n",
       "      <th>MSZoning</th>\n",
       "      <th>LotFrontage</th>\n",
       "      <th>LotArea</th>\n",
       "      <th>Street</th>\n",
       "      <th>Alley</th>\n",
       "      <th>LotShape</th>\n",
       "      <th>LandContour</th>\n",
       "      <th>Utilities</th>\n",
       "      <th>...</th>\n",
       "      <th>PoolQC</th>\n",
       "      <th>Fence</th>\n",
       "      <th>MiscFeature</th>\n",
       "      <th>MiscVal</th>\n",
       "      <th>MoSold</th>\n",
       "      <th>YrSold</th>\n",
       "      <th>SaleType</th>\n",
       "      <th>SaleCondition</th>\n",
       "      <th>SalePrice</th>\n",
       "      <th>has_bsmt</th>\n",
       "    </tr>\n",
       "  </thead>\n",
       "  <tbody>\n",
       "    <tr>\n",
       "      <th>581</th>\n",
       "      <td>582</td>\n",
       "      <td>20</td>\n",
       "      <td>RL</td>\n",
       "      <td>98.0</td>\n",
       "      <td>12704</td>\n",
       "      <td>Pave</td>\n",
       "      <td>NaN</td>\n",
       "      <td>Reg</td>\n",
       "      <td>Lvl</td>\n",
       "      <td>AllPub</td>\n",
       "      <td>...</td>\n",
       "      <td>NaN</td>\n",
       "      <td>NaN</td>\n",
       "      <td>NaN</td>\n",
       "      <td>0</td>\n",
       "      <td>8</td>\n",
       "      <td>2009</td>\n",
       "      <td>New</td>\n",
       "      <td>Partial</td>\n",
       "      <td>253293</td>\n",
       "      <td>1</td>\n",
       "    </tr>\n",
       "    <tr>\n",
       "      <th>1061</th>\n",
       "      <td>1062</td>\n",
       "      <td>30</td>\n",
       "      <td>C (all)</td>\n",
       "      <td>120.0</td>\n",
       "      <td>18000</td>\n",
       "      <td>Grvl</td>\n",
       "      <td>NaN</td>\n",
       "      <td>Reg</td>\n",
       "      <td>Low</td>\n",
       "      <td>AllPub</td>\n",
       "      <td>...</td>\n",
       "      <td>NaN</td>\n",
       "      <td>NaN</td>\n",
       "      <td>Shed</td>\n",
       "      <td>560</td>\n",
       "      <td>8</td>\n",
       "      <td>2008</td>\n",
       "      <td>ConLD</td>\n",
       "      <td>Normal</td>\n",
       "      <td>81000</td>\n",
       "      <td>1</td>\n",
       "    </tr>\n",
       "    <tr>\n",
       "      <th>1190</th>\n",
       "      <td>1191</td>\n",
       "      <td>190</td>\n",
       "      <td>RL</td>\n",
       "      <td>NaN</td>\n",
       "      <td>32463</td>\n",
       "      <td>Pave</td>\n",
       "      <td>NaN</td>\n",
       "      <td>Reg</td>\n",
       "      <td>Low</td>\n",
       "      <td>AllPub</td>\n",
       "      <td>...</td>\n",
       "      <td>NaN</td>\n",
       "      <td>NaN</td>\n",
       "      <td>NaN</td>\n",
       "      <td>0</td>\n",
       "      <td>3</td>\n",
       "      <td>2007</td>\n",
       "      <td>WD</td>\n",
       "      <td>Normal</td>\n",
       "      <td>168000</td>\n",
       "      <td>1</td>\n",
       "    </tr>\n",
       "  </tbody>\n",
       "</table>\n",
       "<p>3 rows × 82 columns</p>\n",
       "</div>"
      ],
      "text/plain": [
       "        Id  MSSubClass MSZoning  LotFrontage  LotArea Street Alley LotShape  \\\n",
       "581    582          20       RL         98.0    12704   Pave   NaN      Reg   \n",
       "1061  1062          30  C (all)        120.0    18000   Grvl   NaN      Reg   \n",
       "1190  1191         190       RL          NaN    32463   Pave   NaN      Reg   \n",
       "\n",
       "     LandContour Utilities  ... PoolQC Fence MiscFeature MiscVal MoSold  \\\n",
       "581          Lvl    AllPub  ...    NaN   NaN         NaN       0      8   \n",
       "1061         Low    AllPub  ...    NaN   NaN        Shed     560      8   \n",
       "1190         Low    AllPub  ...    NaN   NaN         NaN       0      3   \n",
       "\n",
       "     YrSold SaleType  SaleCondition  SalePrice  has_bsmt  \n",
       "581    2009      New        Partial     253293         1  \n",
       "1061   2008    ConLD         Normal      81000         1  \n",
       "1190   2007       WD         Normal     168000         1  \n",
       "\n",
       "[3 rows x 82 columns]"
      ]
     },
     "execution_count": 12,
     "metadata": {},
     "output_type": "execute_result"
    }
   ],
   "source": [
    "outliers_3 = train[(train['GarageArea'] > 1200) & (train['SalePrice'] < 300000)]\n",
    "\n",
    "outliers_3\n",
    "                                                   \n",
    "                                                "
   ]
  },
  {
   "cell_type": "code",
   "execution_count": 13,
   "metadata": {
    "scrolled": true
   },
   "outputs": [
    {
     "data": {
      "text/html": [
       "<div>\n",
       "<style scoped>\n",
       "    .dataframe tbody tr th:only-of-type {\n",
       "        vertical-align: middle;\n",
       "    }\n",
       "\n",
       "    .dataframe tbody tr th {\n",
       "        vertical-align: top;\n",
       "    }\n",
       "\n",
       "    .dataframe thead th {\n",
       "        text-align: right;\n",
       "    }\n",
       "</style>\n",
       "<table border=\"1\" class=\"dataframe\">\n",
       "  <thead>\n",
       "    <tr style=\"text-align: right;\">\n",
       "      <th></th>\n",
       "      <th>Id</th>\n",
       "      <th>MSSubClass</th>\n",
       "      <th>MSZoning</th>\n",
       "      <th>LotFrontage</th>\n",
       "      <th>LotArea</th>\n",
       "      <th>Street</th>\n",
       "      <th>Alley</th>\n",
       "      <th>LotShape</th>\n",
       "      <th>LandContour</th>\n",
       "      <th>Utilities</th>\n",
       "      <th>...</th>\n",
       "      <th>PoolQC</th>\n",
       "      <th>Fence</th>\n",
       "      <th>MiscFeature</th>\n",
       "      <th>MiscVal</th>\n",
       "      <th>MoSold</th>\n",
       "      <th>YrSold</th>\n",
       "      <th>SaleType</th>\n",
       "      <th>SaleCondition</th>\n",
       "      <th>SalePrice</th>\n",
       "      <th>has_bsmt</th>\n",
       "    </tr>\n",
       "  </thead>\n",
       "  <tbody>\n",
       "    <tr>\n",
       "      <th>691</th>\n",
       "      <td>692</td>\n",
       "      <td>60</td>\n",
       "      <td>RL</td>\n",
       "      <td>104.0</td>\n",
       "      <td>21535</td>\n",
       "      <td>Pave</td>\n",
       "      <td>NaN</td>\n",
       "      <td>IR1</td>\n",
       "      <td>Lvl</td>\n",
       "      <td>AllPub</td>\n",
       "      <td>...</td>\n",
       "      <td>NaN</td>\n",
       "      <td>NaN</td>\n",
       "      <td>NaN</td>\n",
       "      <td>0</td>\n",
       "      <td>1</td>\n",
       "      <td>2007</td>\n",
       "      <td>WD</td>\n",
       "      <td>Normal</td>\n",
       "      <td>755000</td>\n",
       "      <td>1</td>\n",
       "    </tr>\n",
       "    <tr>\n",
       "      <th>1182</th>\n",
       "      <td>1183</td>\n",
       "      <td>60</td>\n",
       "      <td>RL</td>\n",
       "      <td>160.0</td>\n",
       "      <td>15623</td>\n",
       "      <td>Pave</td>\n",
       "      <td>NaN</td>\n",
       "      <td>IR1</td>\n",
       "      <td>Lvl</td>\n",
       "      <td>AllPub</td>\n",
       "      <td>...</td>\n",
       "      <td>Ex</td>\n",
       "      <td>MnPrv</td>\n",
       "      <td>NaN</td>\n",
       "      <td>0</td>\n",
       "      <td>7</td>\n",
       "      <td>2007</td>\n",
       "      <td>WD</td>\n",
       "      <td>Abnorml</td>\n",
       "      <td>745000</td>\n",
       "      <td>1</td>\n",
       "    </tr>\n",
       "  </tbody>\n",
       "</table>\n",
       "<p>2 rows × 82 columns</p>\n",
       "</div>"
      ],
      "text/plain": [
       "        Id  MSSubClass MSZoning  LotFrontage  LotArea Street Alley LotShape  \\\n",
       "691    692          60       RL        104.0    21535   Pave   NaN      IR1   \n",
       "1182  1183          60       RL        160.0    15623   Pave   NaN      IR1   \n",
       "\n",
       "     LandContour Utilities  ... PoolQC  Fence MiscFeature MiscVal MoSold  \\\n",
       "691          Lvl    AllPub  ...    NaN    NaN         NaN       0      1   \n",
       "1182         Lvl    AllPub  ...     Ex  MnPrv         NaN       0      7   \n",
       "\n",
       "     YrSold SaleType  SaleCondition  SalePrice  has_bsmt  \n",
       "691    2007       WD         Normal     755000         1  \n",
       "1182   2007       WD        Abnorml     745000         1  \n",
       "\n",
       "[2 rows x 82 columns]"
      ]
     },
     "execution_count": 13,
     "metadata": {},
     "output_type": "execute_result"
    }
   ],
   "source": [
    "outliers_4 = train[(train['SalePrice'] > 700000) & (train['GarageArea']> 600)]\n",
    "\n",
    "outliers_4"
   ]
  },
  {
   "cell_type": "code",
   "execution_count": 14,
   "metadata": {
    "scrolled": false
   },
   "outputs": [
    {
     "data": {
      "image/png": "[encoded data removed]",
      "text/plain": [
       "<Figure size 432x288 with 1 Axes>"
      ]
     },
     "metadata": {
      "needs_background": "light"
     },
     "output_type": "display_data"
    }
   ],
   "source": [
    "train = train.drop([581,1061,1190,691,1182])\n",
    "\n",
    "train.plot.scatter('SalePrice', 'GarageArea')\n",
    "\n",
    "train['has_garage'] = train['GarageArea'].apply(has_it_or_not)\n",
    "holdout['has_garage'] = holdout['GarageArea'].apply(has_it_or_not)"
   ]
  },
  {
   "cell_type": "markdown",
   "metadata": {},
   "source": [
    "## Distribution\n",
    "\n",
    "As is evident, right now the distribution is skewed to the left. In order to solve this we will use a log function to even out the distribution."
   ]
  },
  {
   "cell_type": "code",
   "execution_count": 15,
   "metadata": {},
   "outputs": [
    {
     "data": {
      "image/png": "[encoded data removed]",
      "text/plain": [
       "<Figure size 432x288 with 1 Axes>"
      ]
     },
     "metadata": {
      "needs_background": "light"
     },
     "output_type": "display_data"
    }
   ],
   "source": [
    "import matplotlib.pyplot as plt\n",
    "\n",
    "## Illustrating that the Target Variable is unbalanced\n",
    "\n",
    "plt.hist(train['SalePrice'], bins = 10)\n",
    "\n",
    "plt.show()"
   ]
  },
  {
   "cell_type": "code",
   "execution_count": 16,
   "metadata": {},
   "outputs": [
    {
     "data": {
      "image/png": "[encoded data removed]",
      "text/plain": [
       "<Figure size 432x288 with 1 Axes>"
      ]
     },
     "metadata": {
      "needs_background": "light"
     },
     "output_type": "display_data"
    }
   ],
   "source": [
    "## Normalizing the target variable using log function\n",
    "\n",
    "train['SalePrice'] = np.log1p(train['SalePrice'])\n",
    "\n",
    "plt.hist(train['SalePrice'], bins = 10)\n",
    "\n",
    "plt.show()"
   ]
  },
  {
   "cell_type": "code",
   "execution_count": 17,
   "metadata": {},
   "outputs": [],
   "source": [
    "## Feature Preparation/engineering\n",
    "\n",
    "## Creating new columns\n",
    "train['recent_remod'] = 0\n",
    "holdout['recent_remod'] = 0\n",
    "\n",
    "## Making new columns = 1 if remodelled recently (during or after 2001) and 0 otherwise - original col to be dropped\n",
    "train.loc[train['YearRemodAdd'] >= 1990, ['recent_remod']] = 1\n",
    "train.loc[train['YearRemodAdd'] < 1990, ['recent_remod']] = 0\n",
    "\n",
    "holdout.loc[holdout['YearRemodAdd'] >= 1990, ['recent_remod']] = 1\n",
    "holdout.loc[holdout['YearRemodAdd'] < 1990, ['recent_remod']] = 0\n",
    "\n",
    "## Summing full bathrooms and half bathrooms - original cols to be dropped\n",
    "train['t_full_bathrooms'] = train['BsmtFullBath'] + train['FullBath']\n",
    "train['t_half_bathrooms'] = train['BsmtHalfBath'] + train['HalfBath']\n",
    "\n",
    "holdout['t_full_bathrooms'] = holdout['BsmtFullBath'] + holdout['FullBath']\n",
    "holdout['t_half_bathrooms'] = holdout['BsmtHalfBath'] + holdout['HalfBath']\n",
    "\n",
    "## Summing total porch area in square feet - original cols to be dropped\n",
    "train['T_porch_area'] = train['OpenPorchSF'] + train['EnclosedPorch'] + train['ScreenPorch'] + train['3SsnPorch']\n",
    "holdout['T_porch_area'] = holdout['OpenPorchSF'] + holdout['EnclosedPorch'] + holdout['ScreenPorch'] + holdout['3SsnPorch']\n"
   ]
  },
  {
   "cell_type": "code",
   "execution_count": 18,
   "metadata": {},
   "outputs": [],
   "source": [
    "## Functions for feature preparation/engineering as well as cleaning\n",
    "\n",
    "def process_year_built(df):\n",
    "    cut_points = [1870, 1900, 1930, 1960, 1990, 2020]\n",
    "    label_names = ['ancient', 'extremely_old', 'quite_old', 'recent', 'modern']\n",
    "    df['house_age'] = pd.cut(df['YearBuilt'], cut_points, labels = label_names)\n",
    "    return df\n",
    "\n",
    "def drop_cols(df):\n",
    "    for col in cols_to_drop:\n",
    "        df = df.drop(labels = col, axis = 1)\n",
    "    return df    \n",
    "\n",
    "def create_dummies(df, col_names):\n",
    "    dummies = pd.get_dummies(df[col_names], prefix = col_names)\n",
    "    df = pd.concat([df, dummies], axis = 1)\n",
    "    return df\n",
    "    \n",
    "    \n",
    "    "
   ]
  },
  {
   "cell_type": "code",
   "execution_count": 19,
   "metadata": {},
   "outputs": [],
   "source": [
    "train = process_year_built(train)\n",
    "holdout = process_year_built(holdout)"
   ]
  },
  {
   "cell_type": "code",
   "execution_count": 20,
   "metadata": {},
   "outputs": [],
   "source": [
    "## Dummies created and subsequently dropped in place of dummies\n",
    "\n",
    "for col in cols_for_dummies:\n",
    "    train = create_dummies(train, col)\n",
    "    train = train.drop(col, axis = 1)\n",
    "    holdout = create_dummies(holdout, col)\n",
    "    holdout = holdout.drop(col, axis = 1)"
   ]
  },
  {
   "cell_type": "code",
   "execution_count": 21,
   "metadata": {},
   "outputs": [],
   "source": [
    "train = drop_cols(train)\n",
    "holdout = drop_cols(holdout)"
   ]
  },
  {
   "cell_type": "code",
   "execution_count": 22,
   "metadata": {},
   "outputs": [
    {
     "data": {
      "text/plain": [
       "Index([], dtype='object')"
      ]
     },
     "execution_count": 22,
     "metadata": {},
     "output_type": "execute_result"
    }
   ],
   "source": [
    "## Checking for null values - Training Data\n",
    "\n",
    "train.loc[:, train.isnull().any()].columns"
   ]
  },
  {
   "cell_type": "code",
   "execution_count": 23,
   "metadata": {},
   "outputs": [
    {
     "data": {
      "text/plain": [
       "['TotalBsmtSF', 'GarageArea', 't_full_bathrooms', 't_half_bathrooms']"
      ]
     },
     "execution_count": 23,
     "metadata": {},
     "output_type": "execute_result"
    }
   ],
   "source": [
    "## Checking for null values Target Data\n",
    "\n",
    "null_columns_holdout = list(holdout.loc[:, holdout.isnull().any()].columns)\n",
    "\n",
    "null_columns_holdout"
   ]
  },
  {
   "cell_type": "code",
   "execution_count": 24,
   "metadata": {},
   "outputs": [
    {
     "data": {
      "text/plain": [
       "(1459, 223)"
      ]
     },
     "execution_count": 24,
     "metadata": {},
     "output_type": "execute_result"
    }
   ],
   "source": [
    "holdout.shape"
   ]
  },
  {
   "cell_type": "code",
   "execution_count": 25,
   "metadata": {},
   "outputs": [
    {
     "data": {
      "text/plain": [
       "{'TotalBsmtSF': 1,\n",
       " 'GarageArea': 1,\n",
       " 't_full_bathrooms': 2,\n",
       " 't_half_bathrooms': 2}"
      ]
     },
     "execution_count": 25,
     "metadata": {},
     "output_type": "execute_result"
    }
   ],
   "source": [
    "## Exploring Null Values\n",
    "\n",
    "null_col_counts = {}\n",
    "\n",
    "for col in null_columns_holdout:\n",
    "    null_val = holdout[col].isnull().sum()\n",
    "    null_col_counts[col] = null_val\n",
    "\n",
    "null_col_counts"
   ]
  },
  {
   "cell_type": "code",
   "execution_count": 26,
   "metadata": {},
   "outputs": [],
   "source": [
    "cols_to_be_filled = ['TotalBsmtSF', 'GarageArea', 't_full_bathrooms', 't_half_bathrooms']\n",
    "\n",
    "for col in cols_to_be_filled:\n",
    "    holdout[col] = holdout[col].fillna(holdout[col].mean())"
   ]
  },
  {
   "cell_type": "code",
   "execution_count": 27,
   "metadata": {},
   "outputs": [
    {
     "data": {
      "text/plain": [
       "Index([], dtype='object')"
      ]
     },
     "execution_count": 27,
     "metadata": {},
     "output_type": "execute_result"
    }
   ],
   "source": [
    "## Checking to see if null values have been successfully removed\n",
    "\n",
    "holdout.loc[:, holdout.isnull().any()].columns"
   ]
  },
  {
   "cell_type": "code",
   "execution_count": 28,
   "metadata": {},
   "outputs": [
    {
     "data": {
      "text/plain": [
       "[]"
      ]
     },
     "execution_count": 28,
     "metadata": {},
     "output_type": "execute_result"
    }
   ],
   "source": [
    "## Checking null values for train set\n",
    "\n",
    "null_cols_train = list(train.loc[:, train.isnull().any()].columns)\n",
    "\n",
    "null_cols_train"
   ]
  },
  {
   "cell_type": "code",
   "execution_count": 29,
   "metadata": {},
   "outputs": [
    {
     "data": {
      "text/plain": [
       "{}"
      ]
     },
     "execution_count": 29,
     "metadata": {},
     "output_type": "execute_result"
    }
   ],
   "source": [
    "null_col_counts_train = {}\n",
    "\n",
    "for col in null_cols_train:\n",
    "    null_val = train[col].isnull().sum()\n",
    "    null_cols_train[col] = null_val\n",
    "    \n",
    "null_col_counts_train"
   ]
  },
  {
   "cell_type": "code",
   "execution_count": 30,
   "metadata": {},
   "outputs": [],
   "source": [
    "from sklearn.preprocessing import minmax_scale\n",
    "\n",
    "## Scale values so that all values are between 0 and 1 - except 'Id'\n",
    "\n",
    "cols = train.columns.drop(['Id', 'SalePrice'])\n",
    "test_cols = holdout.drop('Id', axis = 1).columns\n",
    "train[cols] = minmax_scale(train[cols])\n",
    "holdout[test_cols] = minmax_scale(holdout[test_cols])\n"
   ]
  },
  {
   "cell_type": "code",
   "execution_count": 31,
   "metadata": {},
   "outputs": [
    {
     "data": {
      "text/plain": [
       "['Utilities_NoSeWa',\n",
       " 'Condition2_RRAe',\n",
       " 'Condition2_RRAn',\n",
       " 'Condition2_RRNn',\n",
       " 'HouseStyle_2.5Fin',\n",
       " 'RoofMatl_Membran',\n",
       " 'RoofMatl_Metal',\n",
       " 'RoofMatl_Roll',\n",
       " 'Exterior1st_ImStucc',\n",
       " 'Exterior1st_Stone',\n",
       " 'Exterior2nd_Other',\n",
       " 'Heating_Floor',\n",
       " 'Heating_OthW',\n",
       " 'Electrical_Mix',\n",
       " 'PoolQC_Fa',\n",
       " 'MiscFeature_TenC']"
      ]
     },
     "execution_count": 31,
     "metadata": {},
     "output_type": "execute_result"
    }
   ],
   "source": [
    "## Identified that some cols in training set (frpom created dummmies), do not appear in the test set\n",
    "## Therefore we are identifying these columns and removing them from the cols used for training and predictions\n",
    "\n",
    "cols_to_drop_holdout = []\n",
    "\n",
    "for col in cols:\n",
    "    if col in test_cols:\n",
    "        pass\n",
    "    else:\n",
    "        cols_to_drop_holdout.append(col)\n",
    "\n",
    "cols_to_drop_holdout"
   ]
  },
  {
   "cell_type": "code",
   "execution_count": 32,
   "metadata": {},
   "outputs": [],
   "source": [
    "cols = cols.drop(cols_to_drop_holdout)\n"
   ]
  },
  {
   "cell_type": "code",
   "execution_count": 33,
   "metadata": {},
   "outputs": [],
   "source": [
    "all_x = train[cols].reset_index(drop = True)\n",
    "all_y = train['SalePrice'].reset_index(drop = True)\n",
    "\n"
   ]
  },
  {
   "cell_type": "code",
   "execution_count": 34,
   "metadata": {},
   "outputs": [
    {
     "data": {
      "text/plain": [
       "0       12.247699\n",
       "1       12.109016\n",
       "2       12.317171\n",
       "3       11.849405\n",
       "4       12.429220\n",
       "5       11.870607\n",
       "6       12.634606\n",
       "7       12.206078\n",
       "8       11.774528\n",
       "9       11.678448\n",
       "10      11.771444\n",
       "11      12.751303\n",
       "12      11.877576\n",
       "13      12.540761\n",
       "14      11.964007\n",
       "15      11.790565\n",
       "16      11.911708\n",
       "17      11.407576\n",
       "18      11.976666\n",
       "19      11.842236\n",
       "20      12.692506\n",
       "21      11.845110\n",
       "22      12.345839\n",
       "23      11.774528\n",
       "24      11.944714\n",
       "25      12.454108\n",
       "26      11.811555\n",
       "27      12.631344\n",
       "28      12.242891\n",
       "29      11.134604\n",
       "          ...    \n",
       "1421    12.165985\n",
       "1422    11.875838\n",
       "1423    11.074436\n",
       "1424    12.136192\n",
       "1425    11.982935\n",
       "1426    12.066816\n",
       "1427    11.699413\n",
       "1428    12.885673\n",
       "1429    11.916395\n",
       "1430    12.190964\n",
       "1431    12.160034\n",
       "1432    11.913720\n",
       "1433    12.644331\n",
       "1434    11.703554\n",
       "1435    12.098493\n",
       "1436    11.767575\n",
       "1437    11.969724\n",
       "1438    12.388398\n",
       "1439    11.626263\n",
       "1440    11.429555\n",
       "1441    11.820418\n",
       "1442    12.567555\n",
       "1443    11.884496\n",
       "1444    11.344519\n",
       "1445    12.128117\n",
       "1446    12.072547\n",
       "1447    12.254868\n",
       "1448    12.493133\n",
       "1449    11.864469\n",
       "1450    11.901590\n",
       "Name: SalePrice, Length: 1451, dtype: float64"
      ]
     },
     "execution_count": 34,
     "metadata": {},
     "output_type": "execute_result"
    }
   ],
   "source": [
    "all_y"
   ]
  },
  {
   "cell_type": "code",
   "execution_count": 35,
   "metadata": {},
   "outputs": [
    {
     "data": {
      "text/plain": [
       "[]"
      ]
     },
     "execution_count": 35,
     "metadata": {},
     "output_type": "execute_result"
    }
   ],
   "source": [
    "## Making sure that cols that are not in the test data, are not used for training or predictions\n",
    "## Therefore we are checking to see if the cols that are not in the test set are in the cols we are using:\n",
    "\n",
    "no_man = []\n",
    "\n",
    "for col in all_x.columns:\n",
    "    if col in cols_to_drop_holdout:\n",
    "        no_man.append(col)\n",
    "\n",
    "        \n",
    "no_man"
   ]
  },
  {
   "cell_type": "code",
   "execution_count": 36,
   "metadata": {},
   "outputs": [
    {
     "data": {
      "text/plain": [
       "(1451, 221)"
      ]
     },
     "execution_count": 36,
     "metadata": {},
     "output_type": "execute_result"
    }
   ],
   "source": [
    "all_x.shape"
   ]
  },
  {
   "cell_type": "code",
   "execution_count": 37,
   "metadata": {},
   "outputs": [],
   "source": [
    "from sklearn.feature_selection import RFECV\n",
    "from sklearn.metrics import mean_squared_log_error\n",
    "from sklearn.metrics import mean_squared_error\n",
    "from sklearn.linear_model import Ridge\n",
    "from sklearn.model_selection import cross_val_score\n",
    "from sklearn.model_selection import train_test_split\n",
    "from sklearn.model_selection import KFold\n",
    "from sklearn.linear_model import LinearRegression\n",
    "\n",
    "## Dealing with negative values so that we can use mean_squared_log_error \n",
    "\n",
    "def no_negative(prediction):\n",
    "    if prediction < 0:\n",
    "        prediction == 0\n",
    "    return prediction \n",
    "\n",
    "## Testing, training and cross_validation pipeline\n",
    "\n",
    "def train_model(alpha, features, target):\n",
    "    rr = Ridge(alpha, random_state = 2)\n",
    "    model = rr.fit(features, target)\n",
    "    return model\n",
    "    \n",
    "def test(model, test_features, test_target):\n",
    "    msle = []\n",
    "    pre_predictions = model.predict(test_features)\n",
    "    predictions = pd.Series(pre_predictions)\n",
    "    predictions = predictions.apply(no_negative)\n",
    "    accuracy = mean_squared_log_error(test_target, predictions)\n",
    "    msle.append(accuracy)\n",
    "    return msle\n",
    "\n",
    "def cross_validation(alpha, attributes, target):\n",
    "    fold_accuracies = []\n",
    "    kf = KFold(n_splits = 5, shuffle = True, random_state = 2)\n",
    "    for train_index, test_index in kf.split(attributes):\n",
    "        train_features, test_features = attributes.loc[train_index], attributes.loc[test_index]\n",
    "        test_labels, train_labels = target.loc[test_index], target.loc[train_index]\n",
    "        model = train_model(alpha ,train_features, train_labels)\n",
    "        accuracy = test(model, test_features, test_labels)\n",
    "        fold_accuracies.append(accuracy)\n",
    "    return fold_accuracies\n",
    "\n"
   ]
  },
  {
   "cell_type": "code",
   "execution_count": 38,
   "metadata": {},
   "outputs": [],
   "source": [
    "accuracy_by_alpha = []\n",
    "accuracy_dict = {}\n",
    "alphas = [0.2, 0.4, 0.6, 0.8, 1, 1.2, 1.4, 1.6,\n",
    "          1.8, 2, 2.2, 2.4, 2.6, 2.8, 3, 3.2, \n",
    "          3.4, 3.6, 3.8, 4, 4.2, 4.4, 4.6, 4.8, 5,\n",
    "         5.2, 5.4, 5.6, 5.8, 6, 6.2, 6.4, 6.6, 6.8, 7,\n",
    "         7.2, 7.4, 7.6, 7.8, 8]\n",
    "\n",
    "for alpha in alphas:\n",
    "    alpha_accuracy = cross_validation(alpha, all_x, all_y)\n",
    "    accuracy_by_alpha.append(np.mean(alpha_accuracy))\n",
    "    accuracy_dict[alpha] = np.mean(alpha_accuracy)\n",
    "    \n",
    "   "
   ]
  },
  {
   "cell_type": "code",
   "execution_count": 39,
   "metadata": {},
   "outputs": [
    {
     "name": "stdout",
     "output_type": "stream",
     "text": [
      "The best alpha to train at is 2.2 which achieves an RMSLE value of 9.183663529403954e-05\n"
     ]
    },
    {
     "data": {
      "image/png": "[encoded data removed]",
      "text/plain": [
       "<Figure size 720x288 with 1 Axes>"
      ]
     },
     "metadata": {
      "needs_background": "light"
     },
     "output_type": "display_data"
    }
   ],
   "source": [
    "import matplotlib.pyplot as plt\n",
    "%matplotlib inline\n",
    "\n",
    "plt.figure(figsize = (10,4))\n",
    "plt.title('Accuracy by value of Alpha - Ridge Regression')\n",
    "plt.plot(alphas, accuracy_by_alpha)\n",
    "plt.xlabel('Alpha')\n",
    "plt.ylabel('RMSLE Mean Score')\n",
    "\n",
    "print(\"The best alpha to train at is\" , min(accuracy_dict, key = accuracy_dict.get),\n",
    "      \"which achieves an RMSLE value of\" , min(accuracy_dict.values()))"
   ]
  },
  {
   "cell_type": "code",
   "execution_count": 40,
   "metadata": {},
   "outputs": [],
   "source": [
    "## Submitting final results for first model (ridge regression)\n",
    "\n",
    "ridge_model = Ridge(5.4, random_state = 2)\n",
    "\n",
    "mod = ridge_model.fit(all_x, all_y)\n",
    "\n",
    "predictions_ridge_regression = mod.predict(holdout[cols])\n",
    "\n",
    "def save_submit(predictions, sub_no):   \n",
    "    pre_pred = pd.Series(predictions)\n",
    "    final_predictions = pre_pred.apply(no_negative)\n",
    "    \n",
    "    submission_df = {'Id': holdout['Id'], 'SalePrice': final_predictions}\n",
    "    submission = pd.DataFrame(submission_df)\n",
    "    submission.to_csv('submission{}.csv'.format(sub_no), index = False)\n",
    " "
   ]
  },
  {
   "cell_type": "code",
   "execution_count": 41,
   "metadata": {},
   "outputs": [],
   "source": [
    "save_submit(predictions_ridge_regression, 1)"
   ]
  },
  {
   "cell_type": "code",
   "execution_count": 42,
   "metadata": {},
   "outputs": [
    {
     "data": {
      "text/html": [
       "<div>\n",
       "<style scoped>\n",
       "    .dataframe tbody tr th:only-of-type {\n",
       "        vertical-align: middle;\n",
       "    }\n",
       "\n",
       "    .dataframe tbody tr th {\n",
       "        vertical-align: top;\n",
       "    }\n",
       "\n",
       "    .dataframe thead th {\n",
       "        text-align: right;\n",
       "    }\n",
       "</style>\n",
       "<table border=\"1\" class=\"dataframe\">\n",
       "  <thead>\n",
       "    <tr style=\"text-align: right;\">\n",
       "      <th></th>\n",
       "      <th>Attempt</th>\n",
       "      <th>Model</th>\n",
       "      <th>RMSLE</th>\n",
       "    </tr>\n",
       "  </thead>\n",
       "  <tbody>\n",
       "    <tr>\n",
       "      <th>0</th>\n",
       "      <td>1</td>\n",
       "      <td>RidgeRegression</td>\n",
       "      <td>0.16737</td>\n",
       "    </tr>\n",
       "  </tbody>\n",
       "</table>\n",
       "</div>"
      ],
      "text/plain": [
       "   Attempt            Model    RMSLE\n",
       "0        1  RidgeRegression  0.16737"
      ]
     },
     "execution_count": 42,
     "metadata": {},
     "output_type": "execute_result"
    }
   ],
   "source": [
    "results_dict = {'Attempt': 1, 'Model': 'RidgeRegression', 'RMSLE': 0.16737}\n",
    "\n",
    "results = pd.DataFrame(results_dict, index = [0])\n",
    "\n",
    "results\n"
   ]
  },
  {
   "cell_type": "code",
   "execution_count": 43,
   "metadata": {},
   "outputs": [],
   "source": [
    "## Function for creating table of results - adding results of each model to table\n",
    "\n",
    "def add_row(attempt, model, rmsle, results):\n",
    "    temp_dict = {'Attempt': attempt, 'Model': model, 'RMSLE': rmsle}\n",
    "    temp_df = pd.DataFrame(temp_dict, index = [0])\n",
    "    results = pd.concat([results, temp_df], axis = 0)\n",
    "    return results"
   ]
  },
  {
   "cell_type": "markdown",
   "metadata": {},
   "source": [
    "## Model Tweeking\n",
    "\n",
    "We will now make an attempt at tweaking this model in order to achieve a lower RMSEL. We will first check the correlation coefficients of the model to determine the strength of certain features in making predictions, we will then use 'Recursive Feature Elimination' to determine which are the best columns to include.\n"
   ]
  },
  {
   "cell_type": "code",
   "execution_count": 44,
   "metadata": {},
   "outputs": [
    {
     "data": {
      "text/plain": [
       "0.131184    221\n",
       "dtype: int64"
      ]
     },
     "execution_count": 44,
     "metadata": {},
     "output_type": "execute_result"
    }
   ],
   "source": [
    "coefficients = mod.coef_\n",
    "\n",
    "feature_importance = pd.Series(coefficients[0], index = all_x.columns)\n",
    "\n",
    "feature_importance.sort_values(ascending = False)\n",
    "\n",
    "feature_importance.value_counts()"
   ]
  },
  {
   "cell_type": "markdown",
   "metadata": {},
   "source": [
    "## Most Important Features\n",
    "\n",
    "Looking at the top 50 features in terms of their coefficients, i.e how much they affect the SalePrice, the most important areas seem to be:\n",
    "\n",
    "1. Size of the property\n",
    "2. Size of the basement\n",
    "3. The quality of: the kitchen, the bathroom and the bedroom.\n",
    "4. Size of the deck\n",
    "5. Was the unit recently remodelled\n",
    "6. How many cars in the garage\n",
    "7. Total area of the porch\n",
    "8. The class of the building\n",
    "9. The Zoning of the property\n",
    "10. The shape of the property\n",
    "11. The configuration of the properyty\n",
    "12. Overall Quality of the property\n"
   ]
  },
  {
   "cell_type": "code",
   "execution_count": 45,
   "metadata": {},
   "outputs": [],
   "source": [
    "selector = RFECV(mod, cv = 10)\n",
    "\n",
    "selector.fit(all_x, all_y)\n",
    "\n",
    "optimized_columns = list(all_x.columns[selector.support_])\n"
   ]
  },
  {
   "cell_type": "code",
   "execution_count": 46,
   "metadata": {},
   "outputs": [],
   "source": [
    "ridge_model.fit(train[optimized_columns], all_y)\n",
    "\n",
    "optimized_predictions = ridge_model.predict(holdout[optimized_columns])\n",
    "\n",
    "save_submit(optimized_predictions, 2)"
   ]
  },
  {
   "cell_type": "code",
   "execution_count": 47,
   "metadata": {},
   "outputs": [
    {
     "data": {
      "text/html": [
       "<div>\n",
       "<style scoped>\n",
       "    .dataframe tbody tr th:only-of-type {\n",
       "        vertical-align: middle;\n",
       "    }\n",
       "\n",
       "    .dataframe tbody tr th {\n",
       "        vertical-align: top;\n",
       "    }\n",
       "\n",
       "    .dataframe thead th {\n",
       "        text-align: right;\n",
       "    }\n",
       "</style>\n",
       "<table border=\"1\" class=\"dataframe\">\n",
       "  <thead>\n",
       "    <tr style=\"text-align: right;\">\n",
       "      <th></th>\n",
       "      <th>Attempt</th>\n",
       "      <th>Model</th>\n",
       "      <th>RMSLE</th>\n",
       "    </tr>\n",
       "  </thead>\n",
       "  <tbody>\n",
       "    <tr>\n",
       "      <th>0</th>\n",
       "      <td>1</td>\n",
       "      <td>RidgeRegression</td>\n",
       "      <td>0.16737</td>\n",
       "    </tr>\n",
       "    <tr>\n",
       "      <th>0</th>\n",
       "      <td>2</td>\n",
       "      <td>RidgeRegression</td>\n",
       "      <td>0.17065</td>\n",
       "    </tr>\n",
       "  </tbody>\n",
       "</table>\n",
       "</div>"
      ],
      "text/plain": [
       "   Attempt            Model    RMSLE\n",
       "0        1  RidgeRegression  0.16737\n",
       "0        2  RidgeRegression  0.17065"
      ]
     },
     "execution_count": 47,
     "metadata": {},
     "output_type": "execute_result"
    }
   ],
   "source": [
    "results = add_row(2, 'RidgeRegression', 0.17065, results)\n",
    "\n",
    "results"
   ]
  },
  {
   "cell_type": "markdown",
   "metadata": {},
   "source": [
    "## Results\n",
    "\n",
    "It would seem that we have had a worsening of accuracy after using the columns determined through recursive feature elimination. As such we will stick with the original columns we used for the first model.\n",
    "\n",
    "Now we will go ahead and try an ensemble model: RandomForestRegressor. We will make an attempt first without fiddling too much with the hyper parameters. After we get a baseline score, we will then use GridSearch to determine what the bestr hyperparamter values would be."
   ]
  },
  {
   "cell_type": "code",
   "execution_count": 48,
   "metadata": {},
   "outputs": [
    {
     "name": "stderr",
     "output_type": "stream",
     "text": [
      "//anaconda3/lib/python3.7/site-packages/sklearn/ensemble/forest.py:245: FutureWarning: The default value of n_estimators will change from 10 in version 0.20 to 100 in 0.22.\n",
      "  \"10 in version 0.20 to 100 in 0.22.\", FutureWarning)\n"
     ]
    }
   ],
   "source": [
    "from sklearn.ensemble import RandomForestRegressor\n",
    "from sklearn.model_selection import RandomizedSearchCV\n",
    "\n",
    "rfr = RandomForestRegressor()\n",
    "\n",
    "rfr.fit(all_x, all_y)\n",
    "\n",
    "rfr_predictions = rfr.predict(holdout[cols])\n",
    "\n",
    "save_submit(rfr_predictions, 3)"
   ]
  },
  {
   "cell_type": "code",
   "execution_count": 49,
   "metadata": {},
   "outputs": [
    {
     "data": {
      "text/html": [
       "<div>\n",
       "<style scoped>\n",
       "    .dataframe tbody tr th:only-of-type {\n",
       "        vertical-align: middle;\n",
       "    }\n",
       "\n",
       "    .dataframe tbody tr th {\n",
       "        vertical-align: top;\n",
       "    }\n",
       "\n",
       "    .dataframe thead th {\n",
       "        text-align: right;\n",
       "    }\n",
       "</style>\n",
       "<table border=\"1\" class=\"dataframe\">\n",
       "  <thead>\n",
       "    <tr style=\"text-align: right;\">\n",
       "      <th></th>\n",
       "      <th>Attempt</th>\n",
       "      <th>Model</th>\n",
       "      <th>RMSLE</th>\n",
       "    </tr>\n",
       "  </thead>\n",
       "  <tbody>\n",
       "    <tr>\n",
       "      <th>0</th>\n",
       "      <td>1</td>\n",
       "      <td>RidgeRegression</td>\n",
       "      <td>0.16737</td>\n",
       "    </tr>\n",
       "    <tr>\n",
       "      <th>0</th>\n",
       "      <td>2</td>\n",
       "      <td>RidgeRegression</td>\n",
       "      <td>0.17065</td>\n",
       "    </tr>\n",
       "    <tr>\n",
       "      <th>0</th>\n",
       "      <td>3</td>\n",
       "      <td>Random Forest - no hp</td>\n",
       "      <td>0.20010</td>\n",
       "    </tr>\n",
       "  </tbody>\n",
       "</table>\n",
       "</div>"
      ],
      "text/plain": [
       "   Attempt                  Model    RMSLE\n",
       "0        1        RidgeRegression  0.16737\n",
       "0        2        RidgeRegression  0.17065\n",
       "0        3  Random Forest - no hp  0.20010"
      ]
     },
     "execution_count": 49,
     "metadata": {},
     "output_type": "execute_result"
    }
   ],
   "source": [
    "results = add_row(3, 'Random Forest - no hp', 0.2001, results)\n",
    "\n",
    "results"
   ]
  },
  {
   "cell_type": "code",
   "execution_count": 50,
   "metadata": {},
   "outputs": [
    {
     "name": "stdout",
     "output_type": "stream",
     "text": [
      "Fitting 4 folds for each of 100 candidates, totalling 400 fits\n"
     ]
    },
    {
     "name": "stderr",
     "output_type": "stream",
     "text": [
      "[Parallel(n_jobs=-1)]: Using backend LokyBackend with 4 concurrent workers.\n",
      "[Parallel(n_jobs=-1)]: Done  33 tasks      | elapsed:  1.3min\n",
      "[Parallel(n_jobs=-1)]: Done 154 tasks      | elapsed:  8.5min\n",
      "[Parallel(n_jobs=-1)]: Done 357 tasks      | elapsed: 21.1min\n",
      "[Parallel(n_jobs=-1)]: Done 400 out of 400 | elapsed: 22.5min finished\n"
     ]
    },
    {
     "data": {
      "text/plain": [
       "{'n_estimators': 1000,\n",
       " 'min_samples_split': 2,\n",
       " 'min_samples_leaf': 1,\n",
       " 'max_features': 'sqrt',\n",
       " 'max_depth': 110,\n",
       " 'bootstrap': False}"
      ]
     },
     "execution_count": 50,
     "metadata": {},
     "output_type": "execute_result"
    }
   ],
   "source": [
    "rfr = RandomForestRegressor()\n",
    "\n",
    "n_estimators = [int(x) for x in np.linspace(start = 200, stop = 2000, num = 10)]\n",
    "max_features = ['auto', 'sqrt']\n",
    "max_depth = [int(x) for x in np.linspace(10, 110, num = 11)]\n",
    "min_samples_split = [2,5,10]\n",
    "min_samples_leaf = [1,2,4]\n",
    "bootstrap = [True, False]\n",
    "\n",
    "hyper_parameters = {'n_estimators': n_estimators,\n",
    "                    'max_features': max_features,\n",
    "                    'max_depth': max_depth,\n",
    "                    'min_samples_split': min_samples_split,\n",
    "                    'min_samples_leaf': min_samples_leaf,\n",
    "                    'bootstrap': bootstrap}\n",
    "\n",
    "rfr_random = RandomizedSearchCV(estimator = rfr, param_distributions = hyper_parameters, \n",
    "                                n_iter = 100, cv = 4, verbose = 2, random_state = 2,\n",
    "                                n_jobs = -1)\n",
    "\n",
    "rfr_random.fit(all_x, all_y)\n",
    "\n",
    "rfr_random.best_params_"
   ]
  },
  {
   "cell_type": "code",
   "execution_count": 51,
   "metadata": {
    "scrolled": true
   },
   "outputs": [
    {
     "data": {
      "text/html": [
       "<div>\n",
       "<style scoped>\n",
       "    .dataframe tbody tr th:only-of-type {\n",
       "        vertical-align: middle;\n",
       "    }\n",
       "\n",
       "    .dataframe tbody tr th {\n",
       "        vertical-align: top;\n",
       "    }\n",
       "\n",
       "    .dataframe thead th {\n",
       "        text-align: right;\n",
       "    }\n",
       "</style>\n",
       "<table border=\"1\" class=\"dataframe\">\n",
       "  <thead>\n",
       "    <tr style=\"text-align: right;\">\n",
       "      <th></th>\n",
       "      <th>Attempt</th>\n",
       "      <th>Model</th>\n",
       "      <th>RMSLE</th>\n",
       "    </tr>\n",
       "  </thead>\n",
       "  <tbody>\n",
       "    <tr>\n",
       "      <th>0</th>\n",
       "      <td>1</td>\n",
       "      <td>RidgeRegression</td>\n",
       "      <td>0.16737</td>\n",
       "    </tr>\n",
       "    <tr>\n",
       "      <th>0</th>\n",
       "      <td>2</td>\n",
       "      <td>RidgeRegression</td>\n",
       "      <td>0.17065</td>\n",
       "    </tr>\n",
       "    <tr>\n",
       "      <th>0</th>\n",
       "      <td>3</td>\n",
       "      <td>Random Forest - no hp</td>\n",
       "      <td>0.20010</td>\n",
       "    </tr>\n",
       "    <tr>\n",
       "      <th>0</th>\n",
       "      <td>4</td>\n",
       "      <td>Random Forest - optimal HP</td>\n",
       "      <td>0.18497</td>\n",
       "    </tr>\n",
       "  </tbody>\n",
       "</table>\n",
       "</div>"
      ],
      "text/plain": [
       "   Attempt                       Model    RMSLE\n",
       "0        1             RidgeRegression  0.16737\n",
       "0        2             RidgeRegression  0.17065\n",
       "0        3       Random Forest - no hp  0.20010\n",
       "0        4  Random Forest - optimal HP  0.18497"
      ]
     },
     "execution_count": 51,
     "metadata": {},
     "output_type": "execute_result"
    }
   ],
   "source": [
    "rfr = RandomForestRegressor(n_estimators = 1000,\n",
    "                            min_samples_split = 2,\n",
    "                            min_samples_leaf = 1,\n",
    "                            max_features =  'sqrt',\n",
    "                            max_depth = 110,\n",
    "                            bootstrap = False)\n",
    "\n",
    "rfr.fit(all_x, all_y)\n",
    "\n",
    "best_param_predictions = rfr.predict(holdout[cols])\n",
    "\n",
    "save_submit(best_param_predictions, 4)\n",
    "\n",
    "results = add_row(4, 'Random Forest - optimal HP', 0.18497, results)\n",
    "\n",
    "results"
   ]
  },
  {
   "cell_type": "code",
   "execution_count": 57,
   "metadata": {},
   "outputs": [
    {
     "data": {
      "text/plain": [
       "<matplotlib.axes._subplots.AxesSubplot at 0x1a36b4b588>"
      ]
     },
     "execution_count": 57,
     "metadata": {},
     "output_type": "execute_result"
    },
    {
     "data": {
      "image/png": "[encoded data removed]",
      "text/plain": [
       "<Figure size 432x288 with 1 Axes>"
      ]
     },
     "metadata": {
      "needs_background": "light"
     },
     "output_type": "display_data"
    }
   ],
   "source": [
    "results.plot(kind = 'bar', x = 'Model', y = 'RMSLE', title = 'Results', color = 'red', legend = None)"
   ]
  },
  {
   "cell_type": "markdown",
   "metadata": {},
   "source": [
    "## Results And Conclusion\n",
    "\n",
    "These results have not been all together that encouraging. Even after running a randomized search to optmize parameters we are have yet to see an improvement in our error. \n",
    "\n",
    "The prupose of this project was primarily to implement code that searched for the best combination of hyperparamters and to  get more familiar with feature evening. This purpose was achieved and now a new attempt will be made with new and unfamiliar data. We may come back to further optoimize this model. \n",
    "\n",
    "Hypothetically however, from here, the most viable course of action would appear to be further feature engineering. This could begin with determining if features can be simplified in order to glean more predictive power. Further to that, there are no doubt more advanced methods with which the features can be further engineered. Keep an eye on this project for further updates.\n",
    "\n"
   ]
  }
 ],
 "metadata": {
  "kernelspec": {
   "display_name": "Python 3",
   "language": "python",
   "name": "python3"
  },
  "language_info": {
   "codemirror_mode": {
    "name": "ipython",
    "version": 3
   },
   "file_extension": ".py",
   "mimetype": "text/x-python",
   "name": "python",
   "nbconvert_exporter": "python",
   "pygments_lexer": "ipython3",
   "version": "3.7.3"
  }
 },
 "nbformat": 4,
 "nbformat_minor": 2
}
